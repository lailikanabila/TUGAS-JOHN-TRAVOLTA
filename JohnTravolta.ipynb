{
 "cells": [
  {
   "cell_type": "markdown",
   "metadata": {},
   "source": [
    "MATA KULIAH      : PENJAMINAN MUTU PERANGKAT LUNAK       \n",
    "DOSEN PENGAMPU   : RIZAL BROER BAHAWERES M.KOM.       \n",
    "   \n",
    "1. Risya Diany Yulinska (11180910000118)\n",
    "2. Ahmad Malik Fajar (11180910000120)\n",
    "3. Nabila Lailika Amalia (11180910000128)"
   ]
  },
  {
   "cell_type": "code",
   "execution_count": null,
   "metadata": {},
   "outputs": [],
   "source": [
    "gaji = 15000\n",
    "bonus = 1.5 * gaji\n",
    "jam = 40\n",
    "\n",
    "print('JOHN TRAVOLTA')\n",
    "print('Gaji  sebesar Rp' , gaji , '/jam')\n",
    "print('Bonus sebesar Rp' , bonus , '/jam')\n",
    "print('Akan dapat bonus kalau kerja lebih dari 40 jam dalam seminggu')\n",
    "print(\" \")\n",
    "\n",
    "kerja = int(input('Bekerja berapa jam dalam seminggu? '))\n",
    "print('Bekerja selama ' , kerja , 'jam')\n",
    "pengeluaran = int(input('Berapa banyak pengeluaran dalam seminggu? '))\n",
    "print('Pengeluaran sebesar Rp' , pengeluaran)\n",
    "\n",
    "if kerja > jam :\n",
    "    lembur = kerja-jam\n",
    "    pemasukan = jam*gaji + lembur*bonus\n",
    "else :\n",
    "    pemasukan = kerja*gaji\n",
    "    print('Total gaji sebesar Rp' , pemasukan)\n",
    "print(\" \")\n",
    "    \n",
    "if pemasukan > pengeluaran :\n",
    "    tabung = pemasukan - int(pengeluaran)\n",
    "    print('Bisa menabung sebesar Rp' , tabung)\n",
    "elif pemasukan == pengeluaran :\n",
    "    print('Tidak bisa nabung')\n",
    "else :\n",
    "    print('Cari tambahan')"
   ]
  }
 ],
 "metadata": {
  "kernelspec": {
   "display_name": "Python 3",
   "language": "python",
   "name": "python3"
  },
  "language_info": {
   "codemirror_mode": {
    "name": "ipython",
    "version": 3
   },
   "file_extension": ".py",
   "mimetype": "text/x-python",
   "name": "python",
   "nbconvert_exporter": "python",
   "pygments_lexer": "ipython3",
   "version": "3.8.5"
  }
 },
 "nbformat": 4,
 "nbformat_minor": 4
}
